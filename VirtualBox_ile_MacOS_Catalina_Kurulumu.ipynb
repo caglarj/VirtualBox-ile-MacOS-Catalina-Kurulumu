{
  "nbformat": 4,
  "nbformat_minor": 0,
  "metadata": {
    "colab": {
      "provenance": [],
      "authorship_tag": "ABX9TyMAWlY/ivKIEwVp+3urj1Bt",
      "include_colab_link": true
    },
    "kernelspec": {
      "name": "python3",
      "display_name": "Python 3"
    },
    "language_info": {
      "name": "python"
    }
  },
  "cells": [
    {
      "cell_type": "markdown",
      "metadata": {
        "id": "view-in-github",
        "colab_type": "text"
      },
      "source": [
        "<a href=\"https://colab.research.google.com/github/caglarj/VirtualBox-ile-MacOS-Catalina-Kurulumu/blob/main/VirtualBox_ile_MacOS_Catalina_Kurulumu.ipynb\" target=\"_parent\"><img src=\"https://colab.research.google.com/assets/colab-badge.svg\" alt=\"Open In Colab\"/></a>"
      ]
    },
    {
      "cell_type": "markdown",
      "source": [
        "# **INSTALL macOS CATALINA with VirtualBox from Windows 10 and 11**"
      ],
      "metadata": {
        "id": "XHST1x5qky7_"
      }
    },
    {
      "cell_type": "code",
      "execution_count": null,
      "metadata": {
        "id": "iJk2CVeDJdli"
      },
      "outputs": [],
      "source": [
        "from google.colab import files\n",
        "from IPython.display import Image\n"
      ]
    },
    {
      "cell_type": "markdown",
      "source": [
        "\n",
        "\n",
        "---\n",
        "\n",
        "## MacOS Catalina'yı Windows'ta VirtualBox'a Yükleme Adımları\n",
        "\n",
        "Bu makalede, macOS Catalina'yı Windows PC'ye VirtualBox'a yüklemek için size adım adım göstereceğim. Aslında, MacOS'u bir Windows PC'ye VirtualBox'a yüklemek, Apple kullanım koşullarına göre teknik olarak yasal değildir, ancak burada yalnızca test ve eğitim amaçlı kullanıyoruz.\n",
        "\n",
        "\n",
        "1.   MacOS Catalina ISO'yu İndirin.\n",
        "2.   VirtualBox'ı Windows PC'ye Yükle.\n",
        "3.   VirtualBox Uzantısını Yükle.\n",
        "4.   Yeni Bir Sanal Makine Oluşturun ve Özelleştirin.\n",
        "5.   VirtualBox Kodunu Komut İstemi ile Çalıştır.\n",
        "6.   Sanal Makineyi Başlat.\n",
        "7. MacOS Catalina Önyüklenebilir Disk Oluştur.\n",
        "8. MacOS Catalina'nın Temiz Kurulumunu Yapın.\n",
        "9. Özet\n",
        "\n",
        "###  ***Çok Önemli Not:***\n",
        "\n",
        "\n",
        "Kullanmış olduğunuz sistemde Sanallaştırma Teknolojisinin (Virtializatins Technology) desteklendiğine ayrıca etkinleştirilmediğine dikkat edin. \n",
        "\n",
        "Catalina'nın sistemde sağlıklı çalışabilmesi için minimum sistem gereksinimleri ;\n",
        "*  4 Gb Ram, \n",
        "* 30 Gb Depolama alanı\n",
        "* 64 bit Uyumlu Windows İşletim Sistemi\n",
        "\n",
        "Sistem gereksinimi olaran değil ama macOS ile çok daha verimli çalıştığı için SSD tercihli bir harddiskke kurulumu yapmanız son derece faydalı olacaktır. \n",
        "\n",
        "\n",
        "\n"
      ],
      "metadata": {
        "id": "uwdIAt15KTXO"
      }
    },
    {
      "cell_type": "markdown",
      "source": [
        "\n",
        "***TOOL BOX:***\n",
        "\n",
        "Bütün bunları yapabilmemiz için bir alet çantasına ihtiyacımız var;\n",
        "\n",
        "* [macOS Catalina ISO - Version 10.15.3 ](https://drive.google.com/drive/folders/1mUPKPG2Iq5qPUovrmSNFiAffqjdYhPzp?usp=share_link)\n",
        "\n",
        "* [Virtual Box 6.1.36 Kurulumu](https://download.virtualbox.org/virtualbox/6.1.36/VirtualBox-6.1.36-152435-Win.exe)\n",
        "\n",
        "* [Uzantı Paketi - Extantion Pack - Version 6.1.36](https://download.virtualbox.org/virtualbox/6.1.36/Oracle_VM_VirtualBox_Extension_Pack-6.1.36a-152435.vbox-extpack)\n",
        "\n",
        ">Not :VirtualBox 6.1 Sürümleri Aralık 2023 sonuna kadar desteklenmeye devam edecek.  7.0.0 Sürümü 10 Ekim 2022'de yayınlandı ve bir çok yenilik ile karşımıza çıktı. 7.0.4 Versionunda Catalina ile ilgili karşılaşılan sorunlara bir güncelleme geldi. Ama hala mevcut ve güncel sürümde Catalina ile ilgili bir bug söz konusu. Bizde bunun için 6.1 versiyonunu kullanıyoruz.\n",
        "\n",
        "### Meraklılıları için : \n",
        "\n",
        "* [En Güncel Sürümler İçin VirtualBox Sitesini Ziyaret Edin.](https://www.virtualbox.org/wiki/Downloads)\n",
        "\n",
        "* [VirtualBox 7.0.0 Sürümü ile Gelen Köklü Değişiklikler. (Makina Çevirisi Türkçe.)](https://colab.research.google.com/drive/1z_P1o3Tt9eFQZS0HeB3RWmyiX06Kvgxp#scrollTo=8M-8q08TZT9a)\n"
      ],
      "metadata": {
        "id": "2M79EJICP2gx"
      }
    },
    {
      "cell_type": "markdown",
      "source": [
        "## 1. *MacOS Catalina ISO'yu indirin.*\n",
        "\n",
        "Toolbox bölümünde belirtilen linkten, Catalina ISO dosyasını indiriyoruz. Windows Pc'mizde yeni bir sürücü oluşturup, macOS Catalina'yı bu oluşturduğumuz (ve mümkünse ssd olan) sürücüye yüklüyoruz.  "
      ],
      "metadata": {
        "id": "4fopAXA-cd_Z"
      }
    },
    {
      "cell_type": "markdown",
      "source": [
        "## 2. *VirtualBox'ı Windows PC'ye yükleyin*\n",
        "\n",
        "\n",
        "Yukarıda da belirtildiği gibi Catalina için zaman zaman VirtualBox 7.0 sürümlerinde sorun çıkabiliyor. Bunun için 6.1 sürümünü kullanıyoruz. Yukarıda verilen linklerde 6.1.36 sürümü kullanılmıştır.\n",
        "\n",
        "Setup Dosyasını Çalıştırarak aşağıdaki adımları takip ediyoruz.  \n",
        "\n",
        "1. Karşımıza VirtualBox Kurulumu Karşılama Sihirbazı çıkıyor.  *Next / Sonraki* seçerek geçiyoruz. \n",
        "2. Varsayalın ayarları değiştirmek istemediğiniz sürece , Sonraki / Next Butonuna tıklayarak devam ediyoruz. \n",
        "4. VBox'ı yüklerken “ Oracle Corporation ” hakkında bir güvenlik uyarısı görebilirsiniz. Yükle / Install butonuna tıklamanız gerekiyor Tekrar aynısıyla karşılaşırsanız tekrar Install / Yükle seçimi yaparak devam ediyoruz. Eğer Don't Install / Yükleme seçimi yaparsanız işlem sora erecek ve devam edemiyeceksiniz. \n",
        "5. Yükleme tamamlanınca Finish / Bitir butonuna tıklıyoruz. \n",
        "\n",
        "\n",
        "\n",
        "\n",
        "\n",
        "\n"
      ],
      "metadata": {
        "id": "66rlA_fidwzz"
      }
    },
    {
      "cell_type": "markdown",
      "source": [
        "## 3. VirtualBox Uzantısını Yükleyin.\n",
        "\n",
        "Yine alet çantamıza hazırladığımız,( VBox 6.1.36 Oracle VM VirtualBox Extention ). Uzantı paketini yüklüyoruz. Catalina Vbox ile %100 uyumlu değildir. Kurulumda sorun olmaması için Vbox'ın tutorial muhakkak paketi yüklemenizi tavsiye ediyor.\n",
        "\n",
        "<img src=\"https://github.com/caglarj/VirtualBox-ile-MacOS-Catalina-Kurulumu/blob/main/img/3-1.png?raw=true?width=100w\">\n",
        "\n",
        "Uzantı paketini indirdikten sonra. Şimdi, Virtualbox uzantı paketini güncellemek için aşağıdaki adımları izleyin.\n",
        "\n",
        "1. VirtualBox'ı açın, ***Araçlar>Tercihler>Uzantılar'***a gidin.\n",
        "\n",
        "<img src=\"https://github.com/caglarj/VirtualBox-ile-MacOS-Catalina-Kurulumu/blob/main/img/3-2.png?raw=true?width=100w\">\n",
        "\n",
        "2. Artı (+) simgesine tıklayın ve bu bölümün başında indirmiş olduğunuz VirtualBox uzantısını seçin. Yükle veya Yükselt'e tıklayın ve ardından şartlar ve koşulları kabul edin. Tamam düğmesine tıklayın.\n",
        "\n",
        "<img src=\"https://github.com/caglarj/VirtualBox-ile-MacOS-Catalina-Kurulumu/blob/main/img/3-3.png?raw=true?width=50\">\n",
        "\n",
        "\n",
        "Son olarak, aşağıdaki ekran görüntüsü gibi bir şey görmelisiniz.\n",
        "\n",
        "<img src=\"https://github.com/caglarj/VirtualBox-ile-MacOS-Catalina-Kurulumu/blob/main/img/3-4.png?raw=true?width=100w\">\n",
        "\n",
        "\n",
        "\n",
        "\n",
        "\n"
      ],
      "metadata": {
        "id": "q3z9HPdFhw_n"
      }
    },
    {
      "cell_type": "markdown",
      "source": [
        "## 4. Yeni Bir Sanal Makine Oluşturun ve Özelleştirin.\n",
        "\n",
        "\n",
        "Kurulumunu tamamladığımız VBox çalıştırdığımızda bizi aşağıdaki ekran karşılıyor.\n",
        "\n",
        "ISO dosyasını kullanarak macOS Catalina için yeni bir sanal makine oluşturmak için aşağıdaki adımları izleyin. \n",
        "\n",
        "### 1. VirtualBox uygulamanızı açın ve Yeni / New tıklayın.\n",
        "\n",
        "<img src=\"https://github.com/caglarj/VirtualBox-ile-MacOS-Catalina-Kurulumu/blob/main/img/4-1.png?raw=true?width=100w\">\n",
        "\n",
        "### 2. Uzman Modunu seçin ve aşağıdaki maddelerde belirtilenleri takip edin.\n",
        "\n",
        "\n",
        "> a. Sanal makina (Virtual Machine) için uygun olacak bir isim yazın.\n",
        "\n",
        "> b. Sanal Makine Konumu (Virtual Machine Location )( ayrı bir sürücü önerilir)\n",
        "\n",
        "> c. Tür (Type) ( Mac OS X ).\n",
        "\n",
        "> d. Sürüm (Version) ( Mac OS X 64 bit ).\n",
        "\n",
        "> e. Bellek (Memory ) 4 GB ( 8 GB veya daha yüksek bir teklif ).\n",
        "\n",
        "> f. Sabit Disk: (Hard Disk: ) Şimdi sanal disk oluşturmayı seç.\n",
        "\n",
        "\n",
        "<img src=\"https://github.com/caglarj/VirtualBox-ile-MacOS-Catalina-Kurulumu/blob/main/img/4-2.png?raw=true?width=100w\">\n",
        "\n",
        "### Sanal sabit disk oluşturma penceresinde aşağıdaki seçenekleri belirleyin.\n",
        "\n",
        "<img src=\"https://github.com/caglarj/VirtualBox-ile-MacOS-Catalina-Kurulumu/blob/main/img/4-3.png?raw=true?width=100w\">\n",
        "\n",
        "\n",
        "a. Disk Konumu: Catalinanın kurulacağı lokasyanu belirle. Varsayılan konumu herzaman tercih edin.\n",
        "\n",
        "b. Dosya boyutu: Disk boyutunu burada belirleyebilirsiniz.\n",
        "\n",
        "c. Sabit disk dosya türü: VHD ( Virtual Hard Disk ) biçimini seçin.\n",
        "\n",
        "d. Fiziksel sabit diskte depolama: Dinamik olarak tahsis seçeneği. Ancak, daha iyi bir performans diskine sahip olmak istiyorsanız sabit bir disk seçin. Sabit disk, belirtilen boyutu hemen ana makinenizden ayıracaktır.\n",
        "\n",
        "\n",
        "\n",
        "\n",
        "\n"
      ],
      "metadata": {
        "id": "Mcs-KVzsj9FG"
      }
    },
    {
      "cell_type": "markdown",
      "source": [
        "## 3.  Sanal makineyi çalışması için düzenleme zamanı. \n",
        "\n",
        "MacOS Catalina VM'yi seçin ve ayarlara tıklayın. Şimdi, macOS Catalina VM'ye aşağıdaki ayarlamaları yapacağız..\n",
        "\n",
        "<img src=\"https://github.com/caglarj/VirtualBox-ile-MacOS-Catalina-Kurulumu/blob/main/img/4-5.png?raw=true?width=100w\">\n",
        "\n",
        "* Sistem > Anakart, Eğer yeterli RAM'e sahipseniz, temel Bellek için 12281MB gibi yüksek bir seçim yaparsanız iyi olur. Ancak, sisteminizde bu kadar RAM yoksa biraz daha düşük bellek kullanabilirsiniz.\n",
        "* Disket işaretini kaldırın.\n",
        "\n",
        "<img src=\"https://github.com/caglarj/VirtualBox-ile-MacOS-Catalina-Kurulumu/blob/main/img/4-6.png?raw=true?width=100w\">\n",
        "\n",
        "* Hemen yanda bulunan İşlemci sekmesini seçip, minimum 4 işlemci seçelim.\n",
        "\n",
        "* Daha sonrasında, Display (Ekran) sekmesine geçip, seçimiizi video belleği için 128 MB yapalım.\n",
        "\n",
        "* Depolama bölümünden Boş>DVD simgesine tıklayın. Bir disk dosyası seçin seçeneğine tıklayın. Bu yazının \"Gerekli Dosyalar\" bölümünden indirdiğiniz macOS Catalina ISO'yu seçmelisiniz. Son olarak, macOS Catalina Ayarları penceresini kapatmak için Tamam'a tıklayın.\n",
        "\n",
        "<img src=\"https://github.com/caglarj/VirtualBox-ile-MacOS-Catalina-Kurulumu/blob/main/img/4-7.png?raw=true?width=100w\">"
      ],
      "metadata": {
        "id": "sZZQCPE9Z_IM"
      }
    },
    {
      "cell_type": "markdown",
      "source": [
        "## 5. Komut İstemi ile VirtualBox Kodunu Çalıştırın.\n",
        "\n",
        "# *İnanılmaz önemli bir bölüm burası, kurulumda en çok dikkat etmemiz gereken nokta*\n",
        "\n",
        "Sanal makinenizi oluşturup özelleştirdikten sonra, macOS Catalina'yı VirtualBox'a yüklemek için bazı kodları çalıştırma zamanı.\n",
        "\n",
        "İlk olarak, Sanal Makinamıza verdiğimiz adı harfi harfine kullanacağız. \n",
        "\n",
        "***Aşağıdaki kodda Virtual Box'ın C: sürücüsünde varsayılan olarak, kurulumun yapıldığı değerlendirilmiştir.***\n",
        "\n",
        "\n",
        "\n",
        "```\n",
        "# cd \"C:\\Program Files\\Oracle\\VirtualBox\\\"\n",
        "VBoxManage.exe modifyvm \"VM Name\" --cpuidset 00000001 000106e5 00100800 0098e3fd bfebfbff\n",
        "VBoxManage setextradata \"VM Name\" \"VBoxInternal/Devices/efi/0/Config/DmiSystemProduct\" \"iMac19,1\"\n",
        "VBoxManage setextradata \"VM Name\" \"VBoxInternal/Devices/efi/0/Config/DmiSystemVersion\" \"1.0\"\n",
        "VBoxManage setextradata \"VM Name\" \"VBoxInternal/Devices/efi/0/Config/DmiBoardProduct\" \"Mac-AA95B1DDAB278B95\"\n",
        "VBoxManage setextradata \"VM Name\" \"VBoxInternal/Devices/smc/0/Config/DeviceKey\" \"ourhardworkbythesewordsguardedpleasedontsteal(c)AppleComputerInc\"\n",
        "VBoxManage setextradata \"VM Name\" \"VBoxInternal/Devices/smc/0/Config/GetKeyFromRealSMC\" 1\n",
        "```\n",
        "\n",
        "***kodda verilen \"Vm Name\" komut parçasını bir başka betin düzenleyice hata yapmadan istediğiniz ismi seçerek yapabilirisiniz. Örneğinide aşağıda görebilirsiniz****\n",
        "\n",
        "\n",
        "<img src=\"https://github.com/caglarj/VirtualBox-ile-MacOS-Catalina-Kurulumu/blob/main/img/5.1.png?raw=true?width=100w\">\n",
        "\n",
        "\n",
        "Şimdi iki seçeneğiniz var. Birincisi, macOS Catalina ekran çözünürlüğünüzü ilk etapta düzeltmek istiyorsanız. Aşağıdaki kodu da çalıştırmalısınız. \"VM Name \"i sanal makine adınızla ve HxV'yi \"1280×720\" gibi bir ekran çözünürlüğü ile değiştirmelisiniz. VirtualBox üzerinde desteklenen daha fazla ekran çözünürlüğü ve detaylı rehber için VirtualBox üzerinde macOS Catalina ekran çözünürlüğünü düzeltme sayfasını ziyaret ediniz.\n",
        "\n",
        "\n",
        "\n",
        "```\n",
        "# VBoxManage setextradata \"VM Name\" VBoxInternal2/EfiGraphicsResolution HxV\n",
        "```\n",
        "\n",
        "# DİKKAT : \n",
        "Şuana kadar kullanacağımız kodları ve hemen hemen ne işe yaradıklarını belirledik. Şimdi kodlları kullanmakdan önce VIRTUALBOX programını kapatıyoruz. \n",
        "\n",
        "<img src=\"https://github.com/caglarj/VirtualBox-ile-MacOS-Catalina-Kurulumu/blob/main/img/5-2.png?raw=true?width=100w\">\n",
        "\n",
        "\n",
        "\"VM Name \"i sanal makine adınızla değiştirdikten sonra, komut istemi (CMD) aracılığıyla kodu tek tek çalıştırınız. Windows 10'da Windows+X tuşuna basarak komut istemini açabilir ve listeden Komut İstemi'ni seçebilirsiniz. Ya da sadece Windows tuşuna basın ve CMD yazın. Yönetici Olarak Çalıştır'a tıklayın ve Evet'e tıklayın.\n",
        "\n",
        "<img src=\"https://github.com/caglarj/VirtualBox-ile-MacOS-Catalina-Kurulumu/blob/main/img/5-3.png?raw=true?width=0.50w\">\n"
      ],
      "metadata": {
        "id": "BI7y_4ymdfrS"
      }
    },
    {
      "cell_type": "markdown",
      "source": [
        "## 6. Sanal Makineyi Başlat\n",
        "\n",
        "MacOS Catalina'yı Mac İşletim sisteminin eski sürümüyle başlatmak biraz farklıydı, ancak yeni macOS Catalina ile yine de kurulumu kolaydır. \n",
        "\n",
        "1. VirtualBox uygulamasını açın ve Başlat düğmesine tıklayın. Ekranda birkaç sarı ve beyaz metin içeren siyah bir ekran görünecektir.\n",
        "\n",
        "<img src=\"https://github.com/caglarj/VirtualBox-ile-MacOS-Catalina-Kurulumu/blob/main/img/6-1.png?raw=true?width=0.50w\">\n",
        "\n",
        "2. Sanal makinenizi başlattıktan sonra, hangi ISO'yu seçeceğinizi seçmeniz gerekebilir. Yalnızca bir ISO görüntüsü eklediyseniz. Doğru macOS Catalina ISO'yu kullandığınızdan emin olun.\n",
        "\n",
        "## 7. macOS Catalina Önyüklenebilir Disk Oluşturun\n",
        "\n",
        "1. Sanal makinenizi başlattığınızda, ekranda bir sürü kod çalışacaktır, ancak bu konuda endişelenmemelisiniz. Birkaç dakika bekledikten sonra macOS Catalina Language penceresini göreceksiniz. Dilinizi seçin ve Devam okuna tıklayın.\n",
        "\n",
        "<img src=\"https://github.com/caglarj/VirtualBox-ile-MacOS-Catalina-Kurulumu/blob/main/img/7-1.png?raw=true?width=0.50w\">\n",
        "\n",
        "<img src=\"https://github.com/caglarj/VirtualBox-ile-MacOS-Catalina-Kurulumu/blob/main/img/7-2.png?raw=true?width=0.50w\">\n",
        "\n",
        "2. Şimdi, macOS Yardımcı Programlar Penceresini göreceksiniz. Listeden Disk Utility'yi seçin ve Devam'a tıklayın.\n",
        "3. Ana VHD Diskinizi seçin ve Sil düğmesine tıklayın. Aşağıdaki seçenekleri seçin ve tekrar Sil'e tıklayın.\n",
        "\n",
        "    1. İsim: Catalina Disk (İstediğiniz herhangi bir ismi yazabilirsiniz)\n",
        "    2. Biçim: APFS (Bir hata alırsanız Mac OS X Genişletilmiş Günlüklü'yü seçin)\n",
        "    3. Şema: GUID Bölümleme Haritası\n",
        "\n",
        "4. Şimdi, Disk İzlencesi penceresini kapatın\n",
        "\n",
        "\n",
        "<img src=\"https://github.com/caglarj/VirtualBox-ile-MacOS-Catalina-Kurulumu/blob/main/img/7-3.png?raw=true?width=0.50w\">\n",
        "\n",
        "<img src=\"https://github.com/caglarj/VirtualBox-ile-MacOS-Catalina-Kurulumu/blob/main/img/7-4.png?raw=true?width=0.50w\">\n",
        "\n",
        "5. macOS Yardımcı Programları'ndan macOS Yükle'yi seçin ve Devam'a tıklayın.\n",
        "\n",
        "\n",
        "6. macOS Catalina'yı Yükle ekranında Devam'a tıklayın.\n",
        "\n",
        "7. macOS Catalina Lisans sözleşmesini kabul edin. \n",
        "8. macOS Catalina Disk'i seçin ve Yükle'ye tıklayın.\n",
        "\n",
        "9. Hüküm ve Koşulları Kabul Etme\n",
        "\n",
        "10. Catalina için Kurulum Diskini Seçin\n",
        "\n",
        "Şimdi, 3 dakika bekleyin ve sanal makineniz yeniden başlatılacaktır. macOS Catalina Diskinize yüklenecektir. Daha sonra, hiçbir şey yapmamalısınız. Uzun sürecek bir kurulum penceresi aha göreceksiniz. \n",
        "\n",
        "\n",
        "##8. macOS Catalina'nın Temiz Kurulumunu Gerçekleştirin\n",
        "\n",
        "Adım #9'u geçtikten sonra. macOS Catalina Hoş Geldiniz penceresini göreceksiniz. Aşağıdaki seçenekleri seçin. Ayarların çoğunu daha sonra değiştirebilirsiniz, bu yüzden şimdilik endişelenmeyin.\n",
        "\n",
        "1. Ülkenizi seçin ve Devam'a tıklayın.\n",
        "2. Bir Klavye Düzeni seçin ve Devam'a tıklayın. Varsayılan ayarlardan memnun değilseniz, Ayarları özelleştirebilirsiniz.\n",
        "3. \"Veri ve Gizlilik\" penceresinde Devam'a tıklayın.\n",
        "Şimdi hiçbir bilgi aktarma'yı seçin.\n",
        "\n",
        "4. Daha sonra ayarla sonra Oturum Açma'ya tıklayın.  Apple Kimliğinizi daha sonra ekleyebilirsiniz.Atla'ya tıklayın.\n",
        "\n",
        "5. Şartlar ve Koşulları Kabul Ediyorum'a tıklayın ve Devam'a tıklayın.\n",
        "6. Ad Soyad, Hesap adı, Parola ve İpucu'nu doldurun ve Devam'a tıklayın.\n",
        "Ekspres Kurulumu özelleştirmek istiyorsanız, Ayarları Özelleştir'e tıklayabilirsiniz, aksi takdirde Devam'a tıklayın.\n",
        "\n",
        "Analytics penceresinde Devam'a tıklayın.\n",
        "Ekran Süresi'nde Daha Sonra Kur'a tıklayın.\n",
        "\n",
        "\n",
        "Siri'yi şimdilik kurmayın. Sadece atlayın.\n",
        "Bir görünüm teması seçin ve Devam'a tıklayın. Koyu mod veya açık ve Otomatik mod arasında seçim yapabilirsiniz.\n",
        "VirtualBox üzerinde macOS Catalina ISO ile Nasıl Kurulur\n",
        "Catalina Temasını Seçin\n",
        "\n",
        "MacOS'unuzun kurulması için birkaç saniye bekleyin.\n",
        "Şimdilik Feedback Assistant'ı kapatın ve fare ve klavye penceresini kapatın.\n",
        "\n",
        "Kurulum Tamamlandı. "
      ],
      "metadata": {
        "id": "afNjbiemhXZ7"
      }
    },
    {
      "cell_type": "markdown",
      "source": [
        "## Özet\n",
        "Temel olarak, bu makalede size Windows bilgisayarda VirtualBox üzerinde macOS Catalina'nın nasıl kurulacağına dair adım adım resimli bir kılavuz gösterdim. Bu kılavuzu okuduktan ve takip ettikten sonra, aşağıdakileri yapmış olmalısınız;\n",
        "\n",
        "macOS Catalina ISO dosyasını indirin\n",
        "VirtualBox'ı Windows'a Yükleme\n",
        "VirtualBox uzantısı yüklendi ve yükseltildi\n",
        "macOS Catalina için yeni bir sanal makine oluşturuldu\n",
        "Özelleştirilmiş macOS Catalina VM\n",
        "VirtualBox kodunu CMD aracılığıyla çalıştırdı\n",
        "Sanal Makineyi Başlatın\n",
        "macOS Catalina Önyüklenebilir Disk Oluşturma\n",
        "Ve son olarak macOS Catalina'nın temiz bir kurulumunu gerçekleştirdi.\n",
        "\n",
        "\n",
        "\n",
        "\n"
      ],
      "metadata": {
        "id": "n2zTsGTslSA0"
      }
    }
  ]
}